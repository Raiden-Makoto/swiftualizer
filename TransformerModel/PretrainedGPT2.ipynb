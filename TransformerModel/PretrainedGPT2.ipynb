{
 "cells": [
  {
   "cell_type": "code",
   "execution_count": 1,
   "id": "f1b263b0",
   "metadata": {
    "_cell_guid": "b1076dfc-b9ad-4769-8c92-a6c4dae69d19",
    "_uuid": "8f2839f25d086af736a60e9eeb907d3b93b6e0e5",
    "execution": {
     "iopub.execute_input": "2025-03-30T00:19:24.610886Z",
     "iopub.status.busy": "2025-03-30T00:19:24.610617Z",
     "iopub.status.idle": "2025-03-30T00:19:25.438988Z",
     "shell.execute_reply": "2025-03-30T00:19:25.437773Z"
    },
    "papermill": {
     "duration": 0.834982,
     "end_time": "2025-03-30T00:19:25.440363",
     "exception": false,
     "start_time": "2025-03-30T00:19:24.605381",
     "status": "completed"
    },
    "tags": []
   },
   "outputs": [
    {
     "name": "stdout",
     "output_type": "stream",
     "text": [
      "/kaggle/input/taylorswiftlyrics/taylor_swift_lyrics.csv\n",
      "/kaggle/input/gpt2/keras/gpt2_base_en/2/config.json\n",
      "/kaggle/input/gpt2/keras/gpt2_base_en/2/tokenizer.json\n",
      "/kaggle/input/gpt2/keras/gpt2_base_en/2/metadata.json\n",
      "/kaggle/input/gpt2/keras/gpt2_base_en/2/model.weights.h5\n",
      "/kaggle/input/gpt2/keras/gpt2_base_en/2/assets/tokenizer/merges.txt\n",
      "/kaggle/input/gpt2/keras/gpt2_base_en/2/assets/tokenizer/vocabulary.json\n"
     ]
    }
   ],
   "source": [
    "# This Python 3 environment comes with many helpful analytics libraries installed\n",
    "# It is defined by the kaggle/python Docker image: https://github.com/kaggle/docker-python\n",
    "# For example, here's several helpful packages to load\n",
    "\n",
    "import numpy as np # linear algebra\n",
    "import pandas as pd # data processing, CSV file I/O (e.g. pd.read_csv)\n",
    "\n",
    "# Input data files are available in the read-only \"../input/\" directory\n",
    "# For example, running this (by clicking run or pressing Shift+Enter) will list all files under the input directory\n",
    "\n",
    "import os\n",
    "for dirname, _, filenames in os.walk('/kaggle/input'):\n",
    "    for filename in filenames:\n",
    "        print(os.path.join(dirname, filename))\n",
    "\n",
    "# You can write up to 20GB to the current directory (/kaggle/working/) that gets preserved as output when you create a version using \"Save & Run All\" \n",
    "# You can also write temporary files to /kaggle/temp/, but they won't be saved outside of the current session"
   ]
  },
  {
   "cell_type": "code",
   "execution_count": 2,
   "id": "f048c44c",
   "metadata": {
    "execution": {
     "iopub.execute_input": "2025-03-30T00:19:25.449426Z",
     "iopub.status.busy": "2025-03-30T00:19:25.449053Z",
     "iopub.status.idle": "2025-03-30T00:19:40.268698Z",
     "shell.execute_reply": "2025-03-30T00:19:40.267687Z"
    },
    "papermill": {
     "duration": 14.826022,
     "end_time": "2025-03-30T00:19:40.270609",
     "exception": false,
     "start_time": "2025-03-30T00:19:25.444587",
     "status": "completed"
    },
    "tags": []
   },
   "outputs": [],
   "source": [
    "os.environ[\"KERAS_BACKEND\"] = \"tensorflow\"\n",
    "\n",
    "import keras\n",
    "import keras_hub\n",
    "import tensorflow as tf\n",
    "import tensorflow.data as tf_data"
   ]
  },
  {
   "cell_type": "code",
   "execution_count": 3,
   "id": "1c205dbe",
   "metadata": {
    "execution": {
     "iopub.execute_input": "2025-03-30T00:19:40.279222Z",
     "iopub.status.busy": "2025-03-30T00:19:40.278731Z",
     "iopub.status.idle": "2025-03-30T00:19:40.283567Z",
     "shell.execute_reply": "2025-03-30T00:19:40.282854Z"
    },
    "papermill": {
     "duration": 0.010459,
     "end_time": "2025-03-30T00:19:40.284851",
     "exception": false,
     "start_time": "2025-03-30T00:19:40.274392",
     "status": "completed"
    },
    "tags": []
   },
   "outputs": [],
   "source": [
    "from keras_hub.models import GPT2CausalLMPreprocessor, GPT2CausalLM\n",
    "from keras_hub.samplers import TopPSampler"
   ]
  },
  {
   "cell_type": "code",
   "execution_count": 4,
   "id": "2f6bfecf",
   "metadata": {
    "execution": {
     "iopub.execute_input": "2025-03-30T00:19:40.293162Z",
     "iopub.status.busy": "2025-03-30T00:19:40.292935Z",
     "iopub.status.idle": "2025-03-30T00:19:44.924393Z",
     "shell.execute_reply": "2025-03-30T00:19:44.923647Z"
    },
    "papermill": {
     "duration": 4.637423,
     "end_time": "2025-03-30T00:19:44.926074",
     "exception": false,
     "start_time": "2025-03-30T00:19:40.288651",
     "status": "completed"
    },
    "tags": []
   },
   "outputs": [],
   "source": [
    "Preprocessor = GPT2CausalLMPreprocessor.from_preset(\n",
    "    \"gpt2_base_en\",\n",
    "    sequence_length = 512,\n",
    ")"
   ]
  },
  {
   "cell_type": "code",
   "execution_count": 5,
   "id": "e3c72e00",
   "metadata": {
    "execution": {
     "iopub.execute_input": "2025-03-30T00:19:44.934733Z",
     "iopub.status.busy": "2025-03-30T00:19:44.934449Z",
     "iopub.status.idle": "2025-03-30T00:19:44.942706Z",
     "shell.execute_reply": "2025-03-30T00:19:44.942044Z"
    },
    "papermill": {
     "duration": 0.013797,
     "end_time": "2025-03-30T00:19:44.943961",
     "exception": false,
     "start_time": "2025-03-30T00:19:44.930164",
     "status": "completed"
    },
    "tags": []
   },
   "outputs": [],
   "source": [
    "Sampler = TopPSampler(\n",
    "    p = 0.9,\n",
    "    k = None,\n",
    "    seed = 960,\n",
    "    temperature = 0.8\n",
    ")"
   ]
  },
  {
   "cell_type": "code",
   "execution_count": 6,
   "id": "3c9b403a",
   "metadata": {
    "execution": {
     "iopub.execute_input": "2025-03-30T00:19:44.951797Z",
     "iopub.status.busy": "2025-03-30T00:19:44.951579Z",
     "iopub.status.idle": "2025-03-30T00:19:52.985426Z",
     "shell.execute_reply": "2025-03-30T00:19:52.984746Z"
    },
    "papermill": {
     "duration": 8.039688,
     "end_time": "2025-03-30T00:19:52.987050",
     "exception": false,
     "start_time": "2025-03-30T00:19:44.947362",
     "status": "completed"
    },
    "tags": []
   },
   "outputs": [],
   "source": [
    "GPT2Model = GPT2CausalLM.from_preset(\n",
    "    \"gpt2_base_en\",\n",
    "    preprocessor=Preprocessor\n",
    ")"
   ]
  },
  {
   "cell_type": "markdown",
   "id": "441286af",
   "metadata": {
    "papermill": {
     "duration": 0.003266,
     "end_time": "2025-03-30T00:19:52.994467",
     "exception": false,
     "start_time": "2025-03-30T00:19:52.991201",
     "status": "completed"
    },
    "tags": []
   },
   "source": [
    "We will fine-tune this LLM to generate Taylor Swift-esque lyrics"
   ]
  },
  {
   "cell_type": "code",
   "execution_count": 7,
   "id": "ee1bad69",
   "metadata": {
    "execution": {
     "iopub.execute_input": "2025-03-30T00:19:53.002711Z",
     "iopub.status.busy": "2025-03-30T00:19:53.002442Z",
     "iopub.status.idle": "2025-03-30T00:19:53.005778Z",
     "shell.execute_reply": "2025-03-30T00:19:53.005071Z"
    },
    "papermill": {
     "duration": 0.009064,
     "end_time": "2025-03-30T00:19:53.007125",
     "exception": false,
     "start_time": "2025-03-30T00:19:52.998061",
     "status": "completed"
    },
    "tags": []
   },
   "outputs": [],
   "source": [
    "import re\n",
    "remove_tags = lambda text: re.sub(r'\\[.*?\\]', '', text)"
   ]
  },
  {
   "cell_type": "code",
   "execution_count": 8,
   "id": "e824860a",
   "metadata": {
    "execution": {
     "iopub.execute_input": "2025-03-30T00:19:53.014998Z",
     "iopub.status.busy": "2025-03-30T00:19:53.014786Z",
     "iopub.status.idle": "2025-03-30T00:19:53.042749Z",
     "shell.execute_reply": "2025-03-30T00:19:53.042116Z"
    },
    "papermill": {
     "duration": 0.033035,
     "end_time": "2025-03-30T00:19:53.043978",
     "exception": false,
     "start_time": "2025-03-30T00:19:53.010943",
     "status": "completed"
    },
    "tags": []
   },
   "outputs": [],
   "source": [
    "lyrics = pd.read_csv('/kaggle/input/taylorswiftlyrics/taylor_swift_lyrics.csv').dropna()"
   ]
  },
  {
   "cell_type": "code",
   "execution_count": 9,
   "id": "98312ab8",
   "metadata": {
    "execution": {
     "iopub.execute_input": "2025-03-30T00:19:53.052046Z",
     "iopub.status.busy": "2025-03-30T00:19:53.051831Z",
     "iopub.status.idle": "2025-03-30T00:19:53.059949Z",
     "shell.execute_reply": "2025-03-30T00:19:53.059314Z"
    },
    "papermill": {
     "duration": 0.013768,
     "end_time": "2025-03-30T00:19:53.061177",
     "exception": false,
     "start_time": "2025-03-30T00:19:53.047409",
     "status": "completed"
    },
    "tags": []
   },
   "outputs": [],
   "source": [
    "lyrics[\"Lyrics\"] = lyrics[\"Lyrics\"].apply(remove_tags)"
   ]
  },
  {
   "cell_type": "code",
   "execution_count": 10,
   "id": "8edf3150",
   "metadata": {
    "execution": {
     "iopub.execute_input": "2025-03-30T00:19:53.068975Z",
     "iopub.status.busy": "2025-03-30T00:19:53.068731Z",
     "iopub.status.idle": "2025-03-30T00:19:53.074656Z",
     "shell.execute_reply": "2025-03-30T00:19:53.074081Z"
    },
    "papermill": {
     "duration": 0.011,
     "end_time": "2025-03-30T00:19:53.075742",
     "exception": false,
     "start_time": "2025-03-30T00:19:53.064742",
     "status": "completed"
    },
    "tags": []
   },
   "outputs": [],
   "source": [
    "dataset = tf_data.Dataset.from_tensor_slices(lyrics[\"Lyrics\"].values)"
   ]
  },
  {
   "cell_type": "code",
   "execution_count": 11,
   "id": "4ac90a75",
   "metadata": {
    "execution": {
     "iopub.execute_input": "2025-03-30T00:19:53.083647Z",
     "iopub.status.busy": "2025-03-30T00:19:53.083415Z",
     "iopub.status.idle": "2025-03-30T00:19:53.093903Z",
     "shell.execute_reply": "2025-03-30T00:19:53.093338Z"
    },
    "papermill": {
     "duration": 0.015748,
     "end_time": "2025-03-30T00:19:53.095021",
     "exception": false,
     "start_time": "2025-03-30T00:19:53.079273",
     "status": "completed"
    },
    "tags": []
   },
   "outputs": [],
   "source": [
    "dataset = dataset.batch(16).cache().prefetch(tf_data.AUTOTUNE)"
   ]
  },
  {
   "cell_type": "code",
   "execution_count": 12,
   "id": "77df9e8d",
   "metadata": {
    "execution": {
     "iopub.execute_input": "2025-03-30T00:19:53.102805Z",
     "iopub.status.busy": "2025-03-30T00:19:53.102605Z",
     "iopub.status.idle": "2025-03-30T00:19:53.106478Z",
     "shell.execute_reply": "2025-03-30T00:19:53.105898Z"
    },
    "papermill": {
     "duration": 0.009286,
     "end_time": "2025-03-30T00:19:53.107810",
     "exception": false,
     "start_time": "2025-03-30T00:19:53.098524",
     "status": "completed"
    },
    "tags": []
   },
   "outputs": [],
   "source": [
    "from keras.optimizers import Adam\n",
    "from keras.optimizers.schedules import PolynomialDecay\n",
    "from keras.losses import SparseCategoricalCrossentropy"
   ]
  },
  {
   "cell_type": "code",
   "execution_count": 13,
   "id": "bc420817",
   "metadata": {
    "execution": {
     "iopub.execute_input": "2025-03-30T00:19:53.115325Z",
     "iopub.status.busy": "2025-03-30T00:19:53.115128Z",
     "iopub.status.idle": "2025-03-30T00:19:53.125940Z",
     "shell.execute_reply": "2025-03-30T00:19:53.125344Z"
    },
    "papermill": {
     "duration": 0.015678,
     "end_time": "2025-03-30T00:19:53.127089",
     "exception": false,
     "start_time": "2025-03-30T00:19:53.111411",
     "status": "completed"
    },
    "tags": []
   },
   "outputs": [],
   "source": [
    "scheduler = PolynomialDecay(\n",
    "    5e-5,\n",
    "    decay_steps=dataset.cardinality() * 10,\n",
    "    end_learning_rate=0.0,\n",
    ")"
   ]
  },
  {
   "cell_type": "code",
   "execution_count": 14,
   "id": "c8c7c843",
   "metadata": {
    "execution": {
     "iopub.execute_input": "2025-03-30T00:19:53.135990Z",
     "iopub.status.busy": "2025-03-30T00:19:53.135780Z",
     "iopub.status.idle": "2025-03-30T00:19:53.138826Z",
     "shell.execute_reply": "2025-03-30T00:19:53.138195Z"
    },
    "papermill": {
     "duration": 0.009229,
     "end_time": "2025-03-30T00:19:53.140066",
     "exception": false,
     "start_time": "2025-03-30T00:19:53.130837",
     "status": "completed"
    },
    "tags": []
   },
   "outputs": [],
   "source": [
    "loss = SparseCategoricalCrossentropy(from_logits=True)"
   ]
  },
  {
   "cell_type": "code",
   "execution_count": 15,
   "id": "59ee721c",
   "metadata": {
    "execution": {
     "iopub.execute_input": "2025-03-30T00:19:53.147888Z",
     "iopub.status.busy": "2025-03-30T00:19:53.147669Z",
     "iopub.status.idle": "2025-03-30T00:19:53.153906Z",
     "shell.execute_reply": "2025-03-30T00:19:53.153302Z"
    },
    "papermill": {
     "duration": 0.011286,
     "end_time": "2025-03-30T00:19:53.155032",
     "exception": false,
     "start_time": "2025-03-30T00:19:53.143746",
     "status": "completed"
    },
    "tags": []
   },
   "outputs": [],
   "source": [
    "GPT2Model.compile(\n",
    "    optimizer=Adam(scheduler),\n",
    "    loss=loss,\n",
    "    weighted_metrics=[\"accuracy\"],\n",
    "    sampler=Sampler,\n",
    ")"
   ]
  },
  {
   "cell_type": "code",
   "execution_count": 16,
   "id": "5a1adbc4",
   "metadata": {
    "execution": {
     "iopub.execute_input": "2025-03-30T00:19:53.162958Z",
     "iopub.status.busy": "2025-03-30T00:19:53.162719Z",
     "iopub.status.idle": "2025-03-30T00:19:53.186670Z",
     "shell.execute_reply": "2025-03-30T00:19:53.185899Z"
    },
    "papermill": {
     "duration": 0.029403,
     "end_time": "2025-03-30T00:19:53.188013",
     "exception": false,
     "start_time": "2025-03-30T00:19:53.158610",
     "status": "completed"
    },
    "tags": []
   },
   "outputs": [
    {
     "data": {
      "text/html": [
       "<pre style=\"white-space:pre;overflow-x:auto;line-height:normal;font-family:Menlo,'DejaVu Sans Mono',consolas,'Courier New',monospace\"><span style=\"font-weight: bold\">Preprocessor: \"gpt2_causal_lm_preprocessor\"</span>\n",
       "</pre>\n"
      ],
      "text/plain": [
       "\u001b[1mPreprocessor: \"gpt2_causal_lm_preprocessor\"\u001b[0m\n"
      ]
     },
     "metadata": {},
     "output_type": "display_data"
    },
    {
     "data": {
      "text/html": [
       "<pre style=\"white-space:pre;overflow-x:auto;line-height:normal;font-family:Menlo,'DejaVu Sans Mono',consolas,'Courier New',monospace\">┏━━━━━━━━━━━━━━━━━━━━━━━━━━━━━━━━━━━━━━━━━━━━━━━━━━━━━━━━━━━━━━━┳━━━━━━━━━━━━━━━━━━━━━━━━━━━━━━━━━━━━━━━━━━┓\n",
       "┃<span style=\"font-weight: bold\"> Layer (type)                                                  </span>┃<span style=\"font-weight: bold\">                                   Config </span>┃\n",
       "┡━━━━━━━━━━━━━━━━━━━━━━━━━━━━━━━━━━━━━━━━━━━━━━━━━━━━━━━━━━━━━━━╇━━━━━━━━━━━━━━━━━━━━━━━━━━━━━━━━━━━━━━━━━━┩\n",
       "│ gpt2_tokenizer (<span style=\"color: #0087ff; text-decoration-color: #0087ff\">GPT2Tokenizer</span>)                                │                       Vocab size: <span style=\"color: #00af00; text-decoration-color: #00af00\">50,257</span> │\n",
       "└───────────────────────────────────────────────────────────────┴──────────────────────────────────────────┘\n",
       "</pre>\n"
      ],
      "text/plain": [
       "┏━━━━━━━━━━━━━━━━━━━━━━━━━━━━━━━━━━━━━━━━━━━━━━━━━━━━━━━━━━━━━━━┳━━━━━━━━━━━━━━━━━━━━━━━━━━━━━━━━━━━━━━━━━━┓\n",
       "┃\u001b[1m \u001b[0m\u001b[1mLayer (type)                                                 \u001b[0m\u001b[1m \u001b[0m┃\u001b[1m \u001b[0m\u001b[1m                                  Config\u001b[0m\u001b[1m \u001b[0m┃\n",
       "┡━━━━━━━━━━━━━━━━━━━━━━━━━━━━━━━━━━━━━━━━━━━━━━━━━━━━━━━━━━━━━━━╇━━━━━━━━━━━━━━━━━━━━━━━━━━━━━━━━━━━━━━━━━━┩\n",
       "│ gpt2_tokenizer (\u001b[38;5;33mGPT2Tokenizer\u001b[0m)                                │                       Vocab size: \u001b[38;5;34m50,257\u001b[0m │\n",
       "└───────────────────────────────────────────────────────────────┴──────────────────────────────────────────┘\n"
      ]
     },
     "metadata": {},
     "output_type": "display_data"
    },
    {
     "data": {
      "text/html": [
       "<pre style=\"white-space:pre;overflow-x:auto;line-height:normal;font-family:Menlo,'DejaVu Sans Mono',consolas,'Courier New',monospace\"><span style=\"font-weight: bold\">Model: \"gpt2_causal_lm\"</span>\n",
       "</pre>\n"
      ],
      "text/plain": [
       "\u001b[1mModel: \"gpt2_causal_lm\"\u001b[0m\n"
      ]
     },
     "metadata": {},
     "output_type": "display_data"
    },
    {
     "data": {
      "text/html": [
       "<pre style=\"white-space:pre;overflow-x:auto;line-height:normal;font-family:Menlo,'DejaVu Sans Mono',consolas,'Courier New',monospace\">┏━━━━━━━━━━━━━━━━━━━━━━━━━━━━━━━┳━━━━━━━━━━━━━━━━━━━━━━━━━━━┳━━━━━━━━━━━━━━━━━┳━━━━━━━━━━━━━━━━━━━━━━━━━━━━┓\n",
       "┃<span style=\"font-weight: bold\"> Layer (type)                  </span>┃<span style=\"font-weight: bold\"> Output Shape              </span>┃<span style=\"font-weight: bold\">         Param # </span>┃<span style=\"font-weight: bold\"> Connected to               </span>┃\n",
       "┡━━━━━━━━━━━━━━━━━━━━━━━━━━━━━━━╇━━━━━━━━━━━━━━━━━━━━━━━━━━━╇━━━━━━━━━━━━━━━━━╇━━━━━━━━━━━━━━━━━━━━━━━━━━━━┩\n",
       "│ padding_mask (<span style=\"color: #0087ff; text-decoration-color: #0087ff\">InputLayer</span>)     │ (<span style=\"color: #00d7ff; text-decoration-color: #00d7ff\">None</span>, <span style=\"color: #00d7ff; text-decoration-color: #00d7ff\">None</span>)              │               <span style=\"color: #00af00; text-decoration-color: #00af00\">0</span> │ -                          │\n",
       "├───────────────────────────────┼───────────────────────────┼─────────────────┼────────────────────────────┤\n",
       "│ token_ids (<span style=\"color: #0087ff; text-decoration-color: #0087ff\">InputLayer</span>)        │ (<span style=\"color: #00d7ff; text-decoration-color: #00d7ff\">None</span>, <span style=\"color: #00d7ff; text-decoration-color: #00d7ff\">None</span>)              │               <span style=\"color: #00af00; text-decoration-color: #00af00\">0</span> │ -                          │\n",
       "├───────────────────────────────┼───────────────────────────┼─────────────────┼────────────────────────────┤\n",
       "│ gpt2_backbone (<span style=\"color: #0087ff; text-decoration-color: #0087ff\">GPT2Backbone</span>)  │ (<span style=\"color: #00d7ff; text-decoration-color: #00d7ff\">None</span>, <span style=\"color: #00d7ff; text-decoration-color: #00d7ff\">None</span>, <span style=\"color: #00af00; text-decoration-color: #00af00\">768</span>)         │     <span style=\"color: #00af00; text-decoration-color: #00af00\">124,439,808</span> │ padding_mask[<span style=\"color: #00af00; text-decoration-color: #00af00\">0</span>][<span style=\"color: #00af00; text-decoration-color: #00af00\">0</span>],        │\n",
       "│                               │                           │                 │ token_ids[<span style=\"color: #00af00; text-decoration-color: #00af00\">0</span>][<span style=\"color: #00af00; text-decoration-color: #00af00\">0</span>]            │\n",
       "├───────────────────────────────┼───────────────────────────┼─────────────────┼────────────────────────────┤\n",
       "│ token_embedding               │ (<span style=\"color: #00d7ff; text-decoration-color: #00d7ff\">None</span>, <span style=\"color: #00d7ff; text-decoration-color: #00d7ff\">None</span>, <span style=\"color: #00af00; text-decoration-color: #00af00\">50257</span>)       │      <span style=\"color: #00af00; text-decoration-color: #00af00\">38,597,376</span> │ gpt2_backbone[<span style=\"color: #00af00; text-decoration-color: #00af00\">0</span>][<span style=\"color: #00af00; text-decoration-color: #00af00\">0</span>]        │\n",
       "│ (<span style=\"color: #0087ff; text-decoration-color: #0087ff\">ReversibleEmbedding</span>)         │                           │                 │                            │\n",
       "└───────────────────────────────┴───────────────────────────┴─────────────────┴────────────────────────────┘\n",
       "</pre>\n"
      ],
      "text/plain": [
       "┏━━━━━━━━━━━━━━━━━━━━━━━━━━━━━━━┳━━━━━━━━━━━━━━━━━━━━━━━━━━━┳━━━━━━━━━━━━━━━━━┳━━━━━━━━━━━━━━━━━━━━━━━━━━━━┓\n",
       "┃\u001b[1m \u001b[0m\u001b[1mLayer (type)                 \u001b[0m\u001b[1m \u001b[0m┃\u001b[1m \u001b[0m\u001b[1mOutput Shape             \u001b[0m\u001b[1m \u001b[0m┃\u001b[1m \u001b[0m\u001b[1m        Param #\u001b[0m\u001b[1m \u001b[0m┃\u001b[1m \u001b[0m\u001b[1mConnected to              \u001b[0m\u001b[1m \u001b[0m┃\n",
       "┡━━━━━━━━━━━━━━━━━━━━━━━━━━━━━━━╇━━━━━━━━━━━━━━━━━━━━━━━━━━━╇━━━━━━━━━━━━━━━━━╇━━━━━━━━━━━━━━━━━━━━━━━━━━━━┩\n",
       "│ padding_mask (\u001b[38;5;33mInputLayer\u001b[0m)     │ (\u001b[38;5;45mNone\u001b[0m, \u001b[38;5;45mNone\u001b[0m)              │               \u001b[38;5;34m0\u001b[0m │ -                          │\n",
       "├───────────────────────────────┼───────────────────────────┼─────────────────┼────────────────────────────┤\n",
       "│ token_ids (\u001b[38;5;33mInputLayer\u001b[0m)        │ (\u001b[38;5;45mNone\u001b[0m, \u001b[38;5;45mNone\u001b[0m)              │               \u001b[38;5;34m0\u001b[0m │ -                          │\n",
       "├───────────────────────────────┼───────────────────────────┼─────────────────┼────────────────────────────┤\n",
       "│ gpt2_backbone (\u001b[38;5;33mGPT2Backbone\u001b[0m)  │ (\u001b[38;5;45mNone\u001b[0m, \u001b[38;5;45mNone\u001b[0m, \u001b[38;5;34m768\u001b[0m)         │     \u001b[38;5;34m124,439,808\u001b[0m │ padding_mask[\u001b[38;5;34m0\u001b[0m][\u001b[38;5;34m0\u001b[0m],        │\n",
       "│                               │                           │                 │ token_ids[\u001b[38;5;34m0\u001b[0m][\u001b[38;5;34m0\u001b[0m]            │\n",
       "├───────────────────────────────┼───────────────────────────┼─────────────────┼────────────────────────────┤\n",
       "│ token_embedding               │ (\u001b[38;5;45mNone\u001b[0m, \u001b[38;5;45mNone\u001b[0m, \u001b[38;5;34m50257\u001b[0m)       │      \u001b[38;5;34m38,597,376\u001b[0m │ gpt2_backbone[\u001b[38;5;34m0\u001b[0m][\u001b[38;5;34m0\u001b[0m]        │\n",
       "│ (\u001b[38;5;33mReversibleEmbedding\u001b[0m)         │                           │                 │                            │\n",
       "└───────────────────────────────┴───────────────────────────┴─────────────────┴────────────────────────────┘\n"
      ]
     },
     "metadata": {},
     "output_type": "display_data"
    },
    {
     "data": {
      "text/html": [
       "<pre style=\"white-space:pre;overflow-x:auto;line-height:normal;font-family:Menlo,'DejaVu Sans Mono',consolas,'Courier New',monospace\"><span style=\"font-weight: bold\"> Total params: </span><span style=\"color: #00af00; text-decoration-color: #00af00\">124,439,808</span> (474.70 MB)\n",
       "</pre>\n"
      ],
      "text/plain": [
       "\u001b[1m Total params: \u001b[0m\u001b[38;5;34m124,439,808\u001b[0m (474.70 MB)\n"
      ]
     },
     "metadata": {},
     "output_type": "display_data"
    },
    {
     "data": {
      "text/html": [
       "<pre style=\"white-space:pre;overflow-x:auto;line-height:normal;font-family:Menlo,'DejaVu Sans Mono',consolas,'Courier New',monospace\"><span style=\"font-weight: bold\"> Trainable params: </span><span style=\"color: #00af00; text-decoration-color: #00af00\">124,439,808</span> (474.70 MB)\n",
       "</pre>\n"
      ],
      "text/plain": [
       "\u001b[1m Trainable params: \u001b[0m\u001b[38;5;34m124,439,808\u001b[0m (474.70 MB)\n"
      ]
     },
     "metadata": {},
     "output_type": "display_data"
    },
    {
     "data": {
      "text/html": [
       "<pre style=\"white-space:pre;overflow-x:auto;line-height:normal;font-family:Menlo,'DejaVu Sans Mono',consolas,'Courier New',monospace\"><span style=\"font-weight: bold\"> Non-trainable params: </span><span style=\"color: #00af00; text-decoration-color: #00af00\">0</span> (0.00 B)\n",
       "</pre>\n"
      ],
      "text/plain": [
       "\u001b[1m Non-trainable params: \u001b[0m\u001b[38;5;34m0\u001b[0m (0.00 B)\n"
      ]
     },
     "metadata": {},
     "output_type": "display_data"
    }
   ],
   "source": [
    "GPT2Model.summary()"
   ]
  },
  {
   "cell_type": "code",
   "execution_count": 17,
   "id": "e41c478a",
   "metadata": {
    "execution": {
     "iopub.execute_input": "2025-03-30T00:19:53.197248Z",
     "iopub.status.busy": "2025-03-30T00:19:53.197041Z",
     "iopub.status.idle": "2025-03-30T00:32:06.227740Z",
     "shell.execute_reply": "2025-03-30T00:32:06.226606Z"
    },
    "papermill": {
     "duration": 733.037381,
     "end_time": "2025-03-30T00:32:06.229960",
     "exception": false,
     "start_time": "2025-03-30T00:19:53.192579",
     "status": "completed"
    },
    "tags": []
   },
   "outputs": [
    {
     "name": "stdout",
     "output_type": "stream",
     "text": [
      "Epoch 1/20\n",
      "\u001b[1m13/13\u001b[0m \u001b[32m━━━━━━━━━━━━━━━━━━━━\u001b[0m\u001b[37m\u001b[0m \u001b[1m167s\u001b[0m 6s/step - accuracy: 0.5018 - loss: 2.4256\n",
      "Epoch 2/20\n",
      "\u001b[1m13/13\u001b[0m \u001b[32m━━━━━━━━━━━━━━━━━━━━\u001b[0m\u001b[37m\u001b[0m \u001b[1m26s\u001b[0m 2s/step - accuracy: 0.5315 - loss: 2.1940\n",
      "Epoch 3/20\n",
      "\u001b[1m13/13\u001b[0m \u001b[32m━━━━━━━━━━━━━━━━━━━━\u001b[0m\u001b[37m\u001b[0m \u001b[1m28s\u001b[0m 2s/step - accuracy: 0.5435 - loss: 2.1098\n",
      "Epoch 4/20\n",
      "\u001b[1m13/13\u001b[0m \u001b[32m━━━━━━━━━━━━━━━━━━━━\u001b[0m\u001b[37m\u001b[0m \u001b[1m29s\u001b[0m 2s/step - accuracy: 0.5504 - loss: 2.0524\n",
      "Epoch 5/20\n",
      "\u001b[1m13/13\u001b[0m \u001b[32m━━━━━━━━━━━━━━━━━━━━\u001b[0m\u001b[37m\u001b[0m \u001b[1m30s\u001b[0m 2s/step - accuracy: 0.5560 - loss: 2.0135\n",
      "Epoch 6/20\n",
      "\u001b[1m13/13\u001b[0m \u001b[32m━━━━━━━━━━━━━━━━━━━━\u001b[0m\u001b[37m\u001b[0m \u001b[1m30s\u001b[0m 2s/step - accuracy: 0.5598 - loss: 1.9820\n",
      "Epoch 7/20\n",
      "\u001b[1m13/13\u001b[0m \u001b[32m━━━━━━━━━━━━━━━━━━━━\u001b[0m\u001b[37m\u001b[0m \u001b[1m30s\u001b[0m 2s/step - accuracy: 0.5630 - loss: 1.9551\n",
      "Epoch 8/20\n",
      "\u001b[1m13/13\u001b[0m \u001b[32m━━━━━━━━━━━━━━━━━━━━\u001b[0m\u001b[37m\u001b[0m \u001b[1m30s\u001b[0m 2s/step - accuracy: 0.5660 - loss: 1.9387\n",
      "Epoch 9/20\n",
      "\u001b[1m13/13\u001b[0m \u001b[32m━━━━━━━━━━━━━━━━━━━━\u001b[0m\u001b[37m\u001b[0m \u001b[1m30s\u001b[0m 2s/step - accuracy: 0.5669 - loss: 1.9213\n",
      "Epoch 10/20\n",
      "\u001b[1m13/13\u001b[0m \u001b[32m━━━━━━━━━━━━━━━━━━━━\u001b[0m\u001b[37m\u001b[0m \u001b[1m30s\u001b[0m 2s/step - accuracy: 0.5682 - loss: 1.9170\n",
      "Epoch 11/20\n",
      "\u001b[1m13/13\u001b[0m \u001b[32m━━━━━━━━━━━━━━━━━━━━\u001b[0m\u001b[37m\u001b[0m \u001b[1m30s\u001b[0m 2s/step - accuracy: 0.5694 - loss: 1.9124\n",
      "Epoch 12/20\n",
      "\u001b[1m13/13\u001b[0m \u001b[32m━━━━━━━━━━━━━━━━━━━━\u001b[0m\u001b[37m\u001b[0m \u001b[1m30s\u001b[0m 2s/step - accuracy: 0.5690 - loss: 1.9140\n",
      "Epoch 13/20\n",
      "\u001b[1m13/13\u001b[0m \u001b[32m━━━━━━━━━━━━━━━━━━━━\u001b[0m\u001b[37m\u001b[0m \u001b[1m30s\u001b[0m 2s/step - accuracy: 0.5686 - loss: 1.9109\n",
      "Epoch 14/20\n",
      "\u001b[1m13/13\u001b[0m \u001b[32m━━━━━━━━━━━━━━━━━━━━\u001b[0m\u001b[37m\u001b[0m \u001b[1m30s\u001b[0m 2s/step - accuracy: 0.5701 - loss: 1.9124\n",
      "Epoch 15/20\n",
      "\u001b[1m13/13\u001b[0m \u001b[32m━━━━━━━━━━━━━━━━━━━━\u001b[0m\u001b[37m\u001b[0m \u001b[1m30s\u001b[0m 2s/step - accuracy: 0.5694 - loss: 1.9097\n",
      "Epoch 16/20\n",
      "\u001b[1m13/13\u001b[0m \u001b[32m━━━━━━━━━━━━━━━━━━━━\u001b[0m\u001b[37m\u001b[0m \u001b[1m30s\u001b[0m 2s/step - accuracy: 0.5682 - loss: 1.9153\n",
      "Epoch 17/20\n",
      "\u001b[1m13/13\u001b[0m \u001b[32m━━━━━━━━━━━━━━━━━━━━\u001b[0m\u001b[37m\u001b[0m \u001b[1m30s\u001b[0m 2s/step - accuracy: 0.5689 - loss: 1.9136\n",
      "Epoch 18/20\n",
      "\u001b[1m13/13\u001b[0m \u001b[32m━━━━━━━━━━━━━━━━━━━━\u001b[0m\u001b[37m\u001b[0m \u001b[1m30s\u001b[0m 2s/step - accuracy: 0.5682 - loss: 1.9145\n",
      "Epoch 19/20\n",
      "\u001b[1m13/13\u001b[0m \u001b[32m━━━━━━━━━━━━━━━━━━━━\u001b[0m\u001b[37m\u001b[0m \u001b[1m30s\u001b[0m 2s/step - accuracy: 0.5695 - loss: 1.9134\n",
      "Epoch 20/20\n",
      "\u001b[1m13/13\u001b[0m \u001b[32m━━━━━━━━━━━━━━━━━━━━\u001b[0m\u001b[37m\u001b[0m \u001b[1m30s\u001b[0m 2s/step - accuracy: 0.5670 - loss: 1.9148\n"
     ]
    },
    {
     "data": {
      "text/plain": [
       "<keras.src.callbacks.history.History at 0x7ecddc21f790>"
      ]
     },
     "execution_count": 17,
     "metadata": {},
     "output_type": "execute_result"
    }
   ],
   "source": [
    "GPT2Model.fit(dataset, epochs=20)"
   ]
  },
  {
   "cell_type": "code",
   "execution_count": 18,
   "id": "0704a281",
   "metadata": {
    "execution": {
     "iopub.execute_input": "2025-03-30T00:32:06.277062Z",
     "iopub.status.busy": "2025-03-30T00:32:06.276749Z",
     "iopub.status.idle": "2025-03-30T00:32:25.127217Z",
     "shell.execute_reply": "2025-03-30T00:32:25.126190Z"
    },
    "papermill": {
     "duration": 18.876772,
     "end_time": "2025-03-30T00:32:25.128601",
     "exception": false,
     "start_time": "2025-03-30T00:32:06.251829",
     "status": "completed"
    },
    "tags": []
   },
   "outputs": [
    {
     "name": "stdout",
     "output_type": "stream",
     "text": [
      "we were both young when I first met you, we had a real good time, we had everything together\n",
      "you know how I felt, you know what I wanted\n",
      "it was only one of those times when we were supposed to be friends\n",
      "I know you're right, I know I'm right, I'm right, I'm right\n",
      "\n",
      "so, I know, you're right, I know I'm right, I know I'm right, I'm right\n",
      "\n",
      "we met in a bar in Manhattan\n",
      "we dated for the first time\n",
      "we were the kind of girls\n"
     ]
    }
   ],
   "source": [
    "test = GPT2Model.generate(\n",
    "    \"we were both young when I first met you,\",\n",
    "    max_length = 116,\n",
    ")\n",
    "\n",
    "print(test)"
   ]
  },
  {
   "cell_type": "code",
   "execution_count": null,
   "id": "0dd936b8",
   "metadata": {
    "papermill": {
     "duration": 0.018828,
     "end_time": "2025-03-30T00:32:25.168957",
     "exception": false,
     "start_time": "2025-03-30T00:32:25.150129",
     "status": "completed"
    },
    "tags": []
   },
   "outputs": [],
   "source": []
  }
 ],
 "metadata": {
  "kaggle": {
   "accelerator": "nvidiaTeslaT4",
   "dataSources": [
    {
     "datasetId": 6959321,
     "sourceId": 11210651,
     "sourceType": "datasetVersion"
    },
    {
     "modelId": 2823,
     "modelInstanceId": 4694,
     "sourceId": 6074,
     "sourceType": "modelInstanceVersion"
    }
   ],
   "dockerImageVersionId": 30919,
   "isGpuEnabled": true,
   "isInternetEnabled": true,
   "language": "python",
   "sourceType": "notebook"
  },
  "kernelspec": {
   "display_name": "Python 3",
   "language": "python",
   "name": "python3"
  },
  "language_info": {
   "codemirror_mode": {
    "name": "ipython",
    "version": 3
   },
   "file_extension": ".py",
   "mimetype": "text/x-python",
   "name": "python",
   "nbconvert_exporter": "python",
   "pygments_lexer": "ipython3",
   "version": "3.10.12"
  },
  "papermill": {
   "default_parameters": {},
   "duration": 787.191074,
   "end_time": "2025-03-30T00:32:28.925004",
   "environment_variables": {},
   "exception": null,
   "input_path": "__notebook__.ipynb",
   "output_path": "__notebook__.ipynb",
   "parameters": {},
   "start_time": "2025-03-30T00:19:21.733930",
   "version": "2.6.0"
  }
 },
 "nbformat": 4,
 "nbformat_minor": 5
}
