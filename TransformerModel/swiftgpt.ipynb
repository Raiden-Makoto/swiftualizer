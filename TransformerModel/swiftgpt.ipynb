{
 "cells": [
  {
   "cell_type": "code",
   "execution_count": 1,
   "id": "69ec6aea",
   "metadata": {
    "_cell_guid": "b1076dfc-b9ad-4769-8c92-a6c4dae69d19",
    "_uuid": "8f2839f25d086af736a60e9eeb907d3b93b6e0e5",
    "execution": {
     "iopub.execute_input": "2025-03-30T19:34:01.411395Z",
     "iopub.status.busy": "2025-03-30T19:34:01.411093Z",
     "iopub.status.idle": "2025-03-30T19:34:02.231844Z",
     "shell.execute_reply": "2025-03-30T19:34:02.230858Z"
    },
    "papermill": {
     "duration": 0.826554,
     "end_time": "2025-03-30T19:34:02.233324",
     "exception": false,
     "start_time": "2025-03-30T19:34:01.406770",
     "status": "completed"
    },
    "tags": []
   },
   "outputs": [
    {
     "name": "stdout",
     "output_type": "stream",
     "text": [
      "/kaggle/input/taylorswiftlyrics/taylor_swift_lyrics.csv\n",
      "/kaggle/input/gpt2/keras/gpt2_base_en/2/config.json\n",
      "/kaggle/input/gpt2/keras/gpt2_base_en/2/tokenizer.json\n",
      "/kaggle/input/gpt2/keras/gpt2_base_en/2/metadata.json\n",
      "/kaggle/input/gpt2/keras/gpt2_base_en/2/model.weights.h5\n",
      "/kaggle/input/gpt2/keras/gpt2_base_en/2/assets/tokenizer/merges.txt\n",
      "/kaggle/input/gpt2/keras/gpt2_base_en/2/assets/tokenizer/vocabulary.json\n"
     ]
    }
   ],
   "source": [
    "# This Python 3 environment comes with many helpful analytics libraries installed\n",
    "# It is defined by the kaggle/python Docker image: https://github.com/kaggle/docker-python\n",
    "# For example, here's several helpful packages to load\n",
    "\n",
    "import numpy as np # linear algebra\n",
    "import pandas as pd # data processing, CSV file I/O (e.g. pd.read_csv)\n",
    "\n",
    "# Input data files are available in the read-only \"../input/\" directory\n",
    "# For example, running this (by clicking run or pressing Shift+Enter) will list all files under the input directory\n",
    "\n",
    "import os\n",
    "for dirname, _, filenames in os.walk('/kaggle/input'):\n",
    "    for filename in filenames:\n",
    "        print(os.path.join(dirname, filename))\n",
    "\n",
    "\n",
    "os.environ[\"KERAS_BACKEND\"] = \"tensorflow\""
   ]
  },
  {
   "cell_type": "code",
   "execution_count": 2,
   "id": "cfa618fd",
   "metadata": {
    "execution": {
     "iopub.execute_input": "2025-03-30T19:34:02.240983Z",
     "iopub.status.busy": "2025-03-30T19:34:02.240600Z",
     "iopub.status.idle": "2025-03-30T19:34:16.336155Z",
     "shell.execute_reply": "2025-03-30T19:34:16.335436Z"
    },
    "papermill": {
     "duration": 14.100802,
     "end_time": "2025-03-30T19:34:16.337685",
     "exception": false,
     "start_time": "2025-03-30T19:34:02.236883",
     "status": "completed"
    },
    "tags": []
   },
   "outputs": [],
   "source": [
    "from tensorflow.data import Dataset, AUTOTUNE\n",
    "\n",
    "from keras_hub.models import GPT2CausalLMPreprocessor, GPT2CausalLM\n",
    "from keras_hub.samplers import TopPSampler\n",
    "from keras.optimizers import Adam\n",
    "from keras.optimizers.schedules import PolynomialDecay\n",
    "from keras.losses import SparseCategoricalCrossentropy"
   ]
  },
  {
   "cell_type": "code",
   "execution_count": 3,
   "id": "74404c30",
   "metadata": {
    "execution": {
     "iopub.execute_input": "2025-03-30T19:34:16.344842Z",
     "iopub.status.busy": "2025-03-30T19:34:16.344358Z",
     "iopub.status.idle": "2025-03-30T19:34:22.833512Z",
     "shell.execute_reply": "2025-03-30T19:34:22.832852Z"
    },
    "papermill": {
     "duration": 6.494109,
     "end_time": "2025-03-30T19:34:22.835097",
     "exception": false,
     "start_time": "2025-03-30T19:34:16.340988",
     "status": "completed"
    },
    "tags": []
   },
   "outputs": [],
   "source": [
    "Preprocessor = GPT2CausalLMPreprocessor.from_preset(\n",
    "    \"gpt2_base_en\",\n",
    "    sequence_length = 384, # 512 is too long and can cause repetition\n",
    ")"
   ]
  },
  {
   "cell_type": "code",
   "execution_count": 4,
   "id": "89db41b5",
   "metadata": {
    "execution": {
     "iopub.execute_input": "2025-03-30T19:34:22.842662Z",
     "iopub.status.busy": "2025-03-30T19:34:22.842352Z",
     "iopub.status.idle": "2025-03-30T19:34:22.850437Z",
     "shell.execute_reply": "2025-03-30T19:34:22.849847Z"
    },
    "papermill": {
     "duration": 0.013005,
     "end_time": "2025-03-30T19:34:22.851591",
     "exception": false,
     "start_time": "2025-03-30T19:34:22.838586",
     "status": "completed"
    },
    "tags": []
   },
   "outputs": [],
   "source": [
    "Sampler = TopPSampler(\n",
    "    p = 0.70,\n",
    "    k = None,\n",
    "    seed = None,\n",
    "    temperature = 1.09,\n",
    ")"
   ]
  },
  {
   "cell_type": "code",
   "execution_count": 5,
   "id": "96159c25",
   "metadata": {
    "execution": {
     "iopub.execute_input": "2025-03-30T19:34:22.858008Z",
     "iopub.status.busy": "2025-03-30T19:34:22.857804Z",
     "iopub.status.idle": "2025-03-30T19:34:31.853195Z",
     "shell.execute_reply": "2025-03-30T19:34:31.852515Z"
    },
    "papermill": {
     "duration": 9.000272,
     "end_time": "2025-03-30T19:34:31.854776",
     "exception": false,
     "start_time": "2025-03-30T19:34:22.854504",
     "status": "completed"
    },
    "tags": []
   },
   "outputs": [],
   "source": [
    "GPT2Model = GPT2CausalLM.from_preset(\n",
    "    \"gpt2_base_en\",\n",
    "    preprocessor=Preprocessor\n",
    ")"
   ]
  },
  {
   "cell_type": "code",
   "execution_count": 6,
   "id": "5a3c58e8",
   "metadata": {
    "execution": {
     "iopub.execute_input": "2025-03-30T19:34:31.861780Z",
     "iopub.status.busy": "2025-03-30T19:34:31.861541Z",
     "iopub.status.idle": "2025-03-30T19:34:31.893924Z",
     "shell.execute_reply": "2025-03-30T19:34:31.893183Z"
    },
    "papermill": {
     "duration": 0.037221,
     "end_time": "2025-03-30T19:34:31.895297",
     "exception": false,
     "start_time": "2025-03-30T19:34:31.858076",
     "status": "completed"
    },
    "tags": []
   },
   "outputs": [],
   "source": [
    "lyrics = pd.read_csv('/kaggle/input/taylorswiftlyrics/taylor_swift_lyrics.csv').dropna()"
   ]
  },
  {
   "cell_type": "code",
   "execution_count": 7,
   "id": "676e47b7",
   "metadata": {
    "execution": {
     "iopub.execute_input": "2025-03-30T19:34:31.902162Z",
     "iopub.status.busy": "2025-03-30T19:34:31.901942Z",
     "iopub.status.idle": "2025-03-30T19:34:31.905440Z",
     "shell.execute_reply": "2025-03-30T19:34:31.904547Z"
    },
    "papermill": {
     "duration": 0.008132,
     "end_time": "2025-03-30T19:34:31.906665",
     "exception": false,
     "start_time": "2025-03-30T19:34:31.898533",
     "status": "completed"
    },
    "tags": []
   },
   "outputs": [
    {
     "name": "stdout",
     "output_type": "stream",
     "text": [
      "There are 198 examples.\n"
     ]
    }
   ],
   "source": [
    "print(f\"There are {len(lyrics)} examples.\")"
   ]
  },
  {
   "cell_type": "code",
   "execution_count": 8,
   "id": "8973c506",
   "metadata": {
    "execution": {
     "iopub.execute_input": "2025-03-30T19:34:31.913158Z",
     "iopub.status.busy": "2025-03-30T19:34:31.912953Z",
     "iopub.status.idle": "2025-03-30T19:34:31.932153Z",
     "shell.execute_reply": "2025-03-30T19:34:31.931503Z"
    },
    "papermill": {
     "duration": 0.023978,
     "end_time": "2025-03-30T19:34:31.933507",
     "exception": false,
     "start_time": "2025-03-30T19:34:31.909529",
     "status": "completed"
    },
    "tags": []
   },
   "outputs": [],
   "source": [
    "dataset = Dataset.from_tensor_slices(lyrics[\"Lyrics\"].values)\n",
    "dataset = dataset.batch(9).cache().prefetch(AUTOTUNE)"
   ]
  },
  {
   "cell_type": "code",
   "execution_count": 9,
   "id": "3aff5617",
   "metadata": {
    "execution": {
     "iopub.execute_input": "2025-03-30T19:34:31.940442Z",
     "iopub.status.busy": "2025-03-30T19:34:31.940188Z",
     "iopub.status.idle": "2025-03-30T19:34:31.943394Z",
     "shell.execute_reply": "2025-03-30T19:34:31.942701Z"
    },
    "papermill": {
     "duration": 0.007947,
     "end_time": "2025-03-30T19:34:31.944688",
     "exception": false,
     "start_time": "2025-03-30T19:34:31.936741",
     "status": "completed"
    },
    "tags": []
   },
   "outputs": [],
   "source": [
    "EPOCHS = 22"
   ]
  },
  {
   "cell_type": "code",
   "execution_count": 10,
   "id": "db04c787",
   "metadata": {
    "execution": {
     "iopub.execute_input": "2025-03-30T19:34:31.951100Z",
     "iopub.status.busy": "2025-03-30T19:34:31.950877Z",
     "iopub.status.idle": "2025-03-30T19:34:31.962211Z",
     "shell.execute_reply": "2025-03-30T19:34:31.961406Z"
    },
    "papermill": {
     "duration": 0.015987,
     "end_time": "2025-03-30T19:34:31.963599",
     "exception": false,
     "start_time": "2025-03-30T19:34:31.947612",
     "status": "completed"
    },
    "tags": []
   },
   "outputs": [],
   "source": [
    "scheduler = PolynomialDecay(\n",
    "    5e-5,\n",
    "    decay_steps=dataset.cardinality() * EPOCHS,\n",
    "    end_learning_rate=0.0,\n",
    ")"
   ]
  },
  {
   "cell_type": "code",
   "execution_count": 11,
   "id": "5c34f68e",
   "metadata": {
    "execution": {
     "iopub.execute_input": "2025-03-30T19:34:31.970682Z",
     "iopub.status.busy": "2025-03-30T19:34:31.970396Z",
     "iopub.status.idle": "2025-03-30T19:34:31.973606Z",
     "shell.execute_reply": "2025-03-30T19:34:31.972924Z"
    },
    "papermill": {
     "duration": 0.008054,
     "end_time": "2025-03-30T19:34:31.974861",
     "exception": false,
     "start_time": "2025-03-30T19:34:31.966807",
     "status": "completed"
    },
    "tags": []
   },
   "outputs": [],
   "source": [
    "loss = SparseCategoricalCrossentropy(from_logits=True)"
   ]
  },
  {
   "cell_type": "code",
   "execution_count": 12,
   "id": "ef21f2cc",
   "metadata": {
    "execution": {
     "iopub.execute_input": "2025-03-30T19:34:31.981478Z",
     "iopub.status.busy": "2025-03-30T19:34:31.981277Z",
     "iopub.status.idle": "2025-03-30T19:34:32.007568Z",
     "shell.execute_reply": "2025-03-30T19:34:32.006885Z"
    },
    "papermill": {
     "duration": 0.030891,
     "end_time": "2025-03-30T19:34:32.008904",
     "exception": false,
     "start_time": "2025-03-30T19:34:31.978013",
     "status": "completed"
    },
    "tags": []
   },
   "outputs": [
    {
     "data": {
      "text/html": [
       "<pre style=\"white-space:pre;overflow-x:auto;line-height:normal;font-family:Menlo,'DejaVu Sans Mono',consolas,'Courier New',monospace\"><span style=\"font-weight: bold\">Preprocessor: \"gpt2_causal_lm_preprocessor\"</span>\n",
       "</pre>\n"
      ],
      "text/plain": [
       "\u001b[1mPreprocessor: \"gpt2_causal_lm_preprocessor\"\u001b[0m\n"
      ]
     },
     "metadata": {},
     "output_type": "display_data"
    },
    {
     "data": {
      "text/html": [
       "<pre style=\"white-space:pre;overflow-x:auto;line-height:normal;font-family:Menlo,'DejaVu Sans Mono',consolas,'Courier New',monospace\">┏━━━━━━━━━━━━━━━━━━━━━━━━━━━━━━━━━━━━━━━━━━━━━━━━━━━━━━━━━━━━━━━┳━━━━━━━━━━━━━━━━━━━━━━━━━━━━━━━━━━━━━━━━━━┓\n",
       "┃<span style=\"font-weight: bold\"> Layer (type)                                                  </span>┃<span style=\"font-weight: bold\">                                   Config </span>┃\n",
       "┡━━━━━━━━━━━━━━━━━━━━━━━━━━━━━━━━━━━━━━━━━━━━━━━━━━━━━━━━━━━━━━━╇━━━━━━━━━━━━━━━━━━━━━━━━━━━━━━━━━━━━━━━━━━┩\n",
       "│ gpt2_tokenizer (<span style=\"color: #0087ff; text-decoration-color: #0087ff\">GPT2Tokenizer</span>)                                │                       Vocab size: <span style=\"color: #00af00; text-decoration-color: #00af00\">50,257</span> │\n",
       "└───────────────────────────────────────────────────────────────┴──────────────────────────────────────────┘\n",
       "</pre>\n"
      ],
      "text/plain": [
       "┏━━━━━━━━━━━━━━━━━━━━━━━━━━━━━━━━━━━━━━━━━━━━━━━━━━━━━━━━━━━━━━━┳━━━━━━━━━━━━━━━━━━━━━━━━━━━━━━━━━━━━━━━━━━┓\n",
       "┃\u001b[1m \u001b[0m\u001b[1mLayer (type)                                                 \u001b[0m\u001b[1m \u001b[0m┃\u001b[1m \u001b[0m\u001b[1m                                  Config\u001b[0m\u001b[1m \u001b[0m┃\n",
       "┡━━━━━━━━━━━━━━━━━━━━━━━━━━━━━━━━━━━━━━━━━━━━━━━━━━━━━━━━━━━━━━━╇━━━━━━━━━━━━━━━━━━━━━━━━━━━━━━━━━━━━━━━━━━┩\n",
       "│ gpt2_tokenizer (\u001b[38;5;33mGPT2Tokenizer\u001b[0m)                                │                       Vocab size: \u001b[38;5;34m50,257\u001b[0m │\n",
       "└───────────────────────────────────────────────────────────────┴──────────────────────────────────────────┘\n"
      ]
     },
     "metadata": {},
     "output_type": "display_data"
    },
    {
     "data": {
      "text/html": [
       "<pre style=\"white-space:pre;overflow-x:auto;line-height:normal;font-family:Menlo,'DejaVu Sans Mono',consolas,'Courier New',monospace\"><span style=\"font-weight: bold\">Model: \"gpt2_causal_lm\"</span>\n",
       "</pre>\n"
      ],
      "text/plain": [
       "\u001b[1mModel: \"gpt2_causal_lm\"\u001b[0m\n"
      ]
     },
     "metadata": {},
     "output_type": "display_data"
    },
    {
     "data": {
      "text/html": [
       "<pre style=\"white-space:pre;overflow-x:auto;line-height:normal;font-family:Menlo,'DejaVu Sans Mono',consolas,'Courier New',monospace\">┏━━━━━━━━━━━━━━━━━━━━━━━━━━━━━━━┳━━━━━━━━━━━━━━━━━━━━━━━━━━━┳━━━━━━━━━━━━━━━━━┳━━━━━━━━━━━━━━━━━━━━━━━━━━━━┓\n",
       "┃<span style=\"font-weight: bold\"> Layer (type)                  </span>┃<span style=\"font-weight: bold\"> Output Shape              </span>┃<span style=\"font-weight: bold\">         Param # </span>┃<span style=\"font-weight: bold\"> Connected to               </span>┃\n",
       "┡━━━━━━━━━━━━━━━━━━━━━━━━━━━━━━━╇━━━━━━━━━━━━━━━━━━━━━━━━━━━╇━━━━━━━━━━━━━━━━━╇━━━━━━━━━━━━━━━━━━━━━━━━━━━━┩\n",
       "│ padding_mask (<span style=\"color: #0087ff; text-decoration-color: #0087ff\">InputLayer</span>)     │ (<span style=\"color: #00d7ff; text-decoration-color: #00d7ff\">None</span>, <span style=\"color: #00d7ff; text-decoration-color: #00d7ff\">None</span>)              │               <span style=\"color: #00af00; text-decoration-color: #00af00\">0</span> │ -                          │\n",
       "├───────────────────────────────┼───────────────────────────┼─────────────────┼────────────────────────────┤\n",
       "│ token_ids (<span style=\"color: #0087ff; text-decoration-color: #0087ff\">InputLayer</span>)        │ (<span style=\"color: #00d7ff; text-decoration-color: #00d7ff\">None</span>, <span style=\"color: #00d7ff; text-decoration-color: #00d7ff\">None</span>)              │               <span style=\"color: #00af00; text-decoration-color: #00af00\">0</span> │ -                          │\n",
       "├───────────────────────────────┼───────────────────────────┼─────────────────┼────────────────────────────┤\n",
       "│ gpt2_backbone (<span style=\"color: #0087ff; text-decoration-color: #0087ff\">GPT2Backbone</span>)  │ (<span style=\"color: #00d7ff; text-decoration-color: #00d7ff\">None</span>, <span style=\"color: #00d7ff; text-decoration-color: #00d7ff\">None</span>, <span style=\"color: #00af00; text-decoration-color: #00af00\">768</span>)         │     <span style=\"color: #00af00; text-decoration-color: #00af00\">124,439,808</span> │ padding_mask[<span style=\"color: #00af00; text-decoration-color: #00af00\">0</span>][<span style=\"color: #00af00; text-decoration-color: #00af00\">0</span>],        │\n",
       "│                               │                           │                 │ token_ids[<span style=\"color: #00af00; text-decoration-color: #00af00\">0</span>][<span style=\"color: #00af00; text-decoration-color: #00af00\">0</span>]            │\n",
       "├───────────────────────────────┼───────────────────────────┼─────────────────┼────────────────────────────┤\n",
       "│ token_embedding               │ (<span style=\"color: #00d7ff; text-decoration-color: #00d7ff\">None</span>, <span style=\"color: #00d7ff; text-decoration-color: #00d7ff\">None</span>, <span style=\"color: #00af00; text-decoration-color: #00af00\">50257</span>)       │      <span style=\"color: #00af00; text-decoration-color: #00af00\">38,597,376</span> │ gpt2_backbone[<span style=\"color: #00af00; text-decoration-color: #00af00\">0</span>][<span style=\"color: #00af00; text-decoration-color: #00af00\">0</span>]        │\n",
       "│ (<span style=\"color: #0087ff; text-decoration-color: #0087ff\">ReversibleEmbedding</span>)         │                           │                 │                            │\n",
       "└───────────────────────────────┴───────────────────────────┴─────────────────┴────────────────────────────┘\n",
       "</pre>\n"
      ],
      "text/plain": [
       "┏━━━━━━━━━━━━━━━━━━━━━━━━━━━━━━━┳━━━━━━━━━━━━━━━━━━━━━━━━━━━┳━━━━━━━━━━━━━━━━━┳━━━━━━━━━━━━━━━━━━━━━━━━━━━━┓\n",
       "┃\u001b[1m \u001b[0m\u001b[1mLayer (type)                 \u001b[0m\u001b[1m \u001b[0m┃\u001b[1m \u001b[0m\u001b[1mOutput Shape             \u001b[0m\u001b[1m \u001b[0m┃\u001b[1m \u001b[0m\u001b[1m        Param #\u001b[0m\u001b[1m \u001b[0m┃\u001b[1m \u001b[0m\u001b[1mConnected to              \u001b[0m\u001b[1m \u001b[0m┃\n",
       "┡━━━━━━━━━━━━━━━━━━━━━━━━━━━━━━━╇━━━━━━━━━━━━━━━━━━━━━━━━━━━╇━━━━━━━━━━━━━━━━━╇━━━━━━━━━━━━━━━━━━━━━━━━━━━━┩\n",
       "│ padding_mask (\u001b[38;5;33mInputLayer\u001b[0m)     │ (\u001b[38;5;45mNone\u001b[0m, \u001b[38;5;45mNone\u001b[0m)              │               \u001b[38;5;34m0\u001b[0m │ -                          │\n",
       "├───────────────────────────────┼───────────────────────────┼─────────────────┼────────────────────────────┤\n",
       "│ token_ids (\u001b[38;5;33mInputLayer\u001b[0m)        │ (\u001b[38;5;45mNone\u001b[0m, \u001b[38;5;45mNone\u001b[0m)              │               \u001b[38;5;34m0\u001b[0m │ -                          │\n",
       "├───────────────────────────────┼───────────────────────────┼─────────────────┼────────────────────────────┤\n",
       "│ gpt2_backbone (\u001b[38;5;33mGPT2Backbone\u001b[0m)  │ (\u001b[38;5;45mNone\u001b[0m, \u001b[38;5;45mNone\u001b[0m, \u001b[38;5;34m768\u001b[0m)         │     \u001b[38;5;34m124,439,808\u001b[0m │ padding_mask[\u001b[38;5;34m0\u001b[0m][\u001b[38;5;34m0\u001b[0m],        │\n",
       "│                               │                           │                 │ token_ids[\u001b[38;5;34m0\u001b[0m][\u001b[38;5;34m0\u001b[0m]            │\n",
       "├───────────────────────────────┼───────────────────────────┼─────────────────┼────────────────────────────┤\n",
       "│ token_embedding               │ (\u001b[38;5;45mNone\u001b[0m, \u001b[38;5;45mNone\u001b[0m, \u001b[38;5;34m50257\u001b[0m)       │      \u001b[38;5;34m38,597,376\u001b[0m │ gpt2_backbone[\u001b[38;5;34m0\u001b[0m][\u001b[38;5;34m0\u001b[0m]        │\n",
       "│ (\u001b[38;5;33mReversibleEmbedding\u001b[0m)         │                           │                 │                            │\n",
       "└───────────────────────────────┴───────────────────────────┴─────────────────┴────────────────────────────┘\n"
      ]
     },
     "metadata": {},
     "output_type": "display_data"
    },
    {
     "data": {
      "text/html": [
       "<pre style=\"white-space:pre;overflow-x:auto;line-height:normal;font-family:Menlo,'DejaVu Sans Mono',consolas,'Courier New',monospace\"><span style=\"font-weight: bold\"> Total params: </span><span style=\"color: #00af00; text-decoration-color: #00af00\">124,439,808</span> (474.70 MB)\n",
       "</pre>\n"
      ],
      "text/plain": [
       "\u001b[1m Total params: \u001b[0m\u001b[38;5;34m124,439,808\u001b[0m (474.70 MB)\n"
      ]
     },
     "metadata": {},
     "output_type": "display_data"
    },
    {
     "data": {
      "text/html": [
       "<pre style=\"white-space:pre;overflow-x:auto;line-height:normal;font-family:Menlo,'DejaVu Sans Mono',consolas,'Courier New',monospace\"><span style=\"font-weight: bold\"> Trainable params: </span><span style=\"color: #00af00; text-decoration-color: #00af00\">124,439,808</span> (474.70 MB)\n",
       "</pre>\n"
      ],
      "text/plain": [
       "\u001b[1m Trainable params: \u001b[0m\u001b[38;5;34m124,439,808\u001b[0m (474.70 MB)\n"
      ]
     },
     "metadata": {},
     "output_type": "display_data"
    },
    {
     "data": {
      "text/html": [
       "<pre style=\"white-space:pre;overflow-x:auto;line-height:normal;font-family:Menlo,'DejaVu Sans Mono',consolas,'Courier New',monospace\"><span style=\"font-weight: bold\"> Non-trainable params: </span><span style=\"color: #00af00; text-decoration-color: #00af00\">0</span> (0.00 B)\n",
       "</pre>\n"
      ],
      "text/plain": [
       "\u001b[1m Non-trainable params: \u001b[0m\u001b[38;5;34m0\u001b[0m (0.00 B)\n"
      ]
     },
     "metadata": {},
     "output_type": "display_data"
    }
   ],
   "source": [
    "GPT2Model.compile(\n",
    "    optimizer=Adam(scheduler),\n",
    "    loss=loss,\n",
    "    weighted_metrics=[\"accuracy\"],\n",
    "    sampler=Sampler,\n",
    ")\n",
    "\n",
    "GPT2Model.summary()"
   ]
  },
  {
   "cell_type": "code",
   "execution_count": 13,
   "id": "1703110c",
   "metadata": {
    "execution": {
     "iopub.execute_input": "2025-03-30T19:34:32.017564Z",
     "iopub.status.busy": "2025-03-30T19:34:32.017338Z",
     "iopub.status.idle": "2025-03-30T19:48:57.157980Z",
     "shell.execute_reply": "2025-03-30T19:48:57.157131Z"
    },
    "papermill": {
     "duration": 865.146592,
     "end_time": "2025-03-30T19:48:57.159453",
     "exception": false,
     "start_time": "2025-03-30T19:34:32.012861",
     "status": "completed"
    },
    "tags": []
   },
   "outputs": [
    {
     "name": "stdout",
     "output_type": "stream",
     "text": [
      "Epoch 1/33\n",
      "\u001b[1m22/22\u001b[0m \u001b[32m━━━━━━━━━━━━━━━━━━━━\u001b[0m\u001b[37m\u001b[0m \u001b[1m101s\u001b[0m 883ms/step - accuracy: 0.4927 - loss: 2.6895\n",
      "Epoch 2/33\n",
      "\u001b[1m22/22\u001b[0m \u001b[32m━━━━━━━━━━━━━━━━━━━━\u001b[0m\u001b[37m\u001b[0m \u001b[1m22s\u001b[0m 949ms/step - accuracy: 0.5362 - loss: 2.3573\n",
      "Epoch 3/33\n",
      "\u001b[1m22/22\u001b[0m \u001b[32m━━━━━━━━━━━━━━━━━━━━\u001b[0m\u001b[37m\u001b[0m \u001b[1m23s\u001b[0m 1s/step - accuracy: 0.5512 - loss: 2.2400\n",
      "Epoch 4/33\n",
      "\u001b[1m22/22\u001b[0m \u001b[32m━━━━━━━━━━━━━━━━━━━━\u001b[0m\u001b[37m\u001b[0m \u001b[1m25s\u001b[0m 1s/step - accuracy: 0.5621 - loss: 2.1556\n",
      "Epoch 5/33\n",
      "\u001b[1m22/22\u001b[0m \u001b[32m━━━━━━━━━━━━━━━━━━━━\u001b[0m\u001b[37m\u001b[0m \u001b[1m23s\u001b[0m 1s/step - accuracy: 0.5700 - loss: 2.0865\n",
      "Epoch 6/33\n",
      "\u001b[1m22/22\u001b[0m \u001b[32m━━━━━━━━━━━━━━━━━━━━\u001b[0m\u001b[37m\u001b[0m \u001b[1m23s\u001b[0m 1s/step - accuracy: 0.5798 - loss: 2.0266\n",
      "Epoch 7/33\n",
      "\u001b[1m22/22\u001b[0m \u001b[32m━━━━━━━━━━━━━━━━━━━━\u001b[0m\u001b[37m\u001b[0m \u001b[1m24s\u001b[0m 1s/step - accuracy: 0.5858 - loss: 1.9768\n",
      "Epoch 8/33\n",
      "\u001b[1m22/22\u001b[0m \u001b[32m━━━━━━━━━━━━━━━━━━━━\u001b[0m\u001b[37m\u001b[0m \u001b[1m24s\u001b[0m 1s/step - accuracy: 0.5928 - loss: 1.9214\n",
      "Epoch 9/33\n",
      "\u001b[1m22/22\u001b[0m \u001b[32m━━━━━━━━━━━━━━━━━━━━\u001b[0m\u001b[37m\u001b[0m \u001b[1m23s\u001b[0m 1s/step - accuracy: 0.6001 - loss: 1.8835\n",
      "Epoch 10/33\n",
      "\u001b[1m22/22\u001b[0m \u001b[32m━━━━━━━━━━━━━━━━━━━━\u001b[0m\u001b[37m\u001b[0m \u001b[1m24s\u001b[0m 1s/step - accuracy: 0.6044 - loss: 1.8394\n",
      "Epoch 11/33\n",
      "\u001b[1m22/22\u001b[0m \u001b[32m━━━━━━━━━━━━━━━━━━━━\u001b[0m\u001b[37m\u001b[0m \u001b[1m24s\u001b[0m 1s/step - accuracy: 0.6122 - loss: 1.8043\n",
      "Epoch 12/33\n",
      "\u001b[1m22/22\u001b[0m \u001b[32m━━━━━━━━━━━━━━━━━━━━\u001b[0m\u001b[37m\u001b[0m \u001b[1m24s\u001b[0m 1s/step - accuracy: 0.6172 - loss: 1.7707\n",
      "Epoch 13/33\n",
      "\u001b[1m22/22\u001b[0m \u001b[32m━━━━━━━━━━━━━━━━━━━━\u001b[0m\u001b[37m\u001b[0m \u001b[1m24s\u001b[0m 1s/step - accuracy: 0.6233 - loss: 1.7342\n",
      "Epoch 14/33\n",
      "\u001b[1m22/22\u001b[0m \u001b[32m━━━━━━━━━━━━━━━━━━━━\u001b[0m\u001b[37m\u001b[0m \u001b[1m24s\u001b[0m 1s/step - accuracy: 0.6230 - loss: 1.7145\n",
      "Epoch 15/33\n",
      "\u001b[1m22/22\u001b[0m \u001b[32m━━━━━━━━━━━━━━━━━━━━\u001b[0m\u001b[37m\u001b[0m \u001b[1m24s\u001b[0m 1s/step - accuracy: 0.6291 - loss: 1.6829\n",
      "Epoch 16/33\n",
      "\u001b[1m22/22\u001b[0m \u001b[32m━━━━━━━━━━━━━━━━━━━━\u001b[0m\u001b[37m\u001b[0m \u001b[1m24s\u001b[0m 1s/step - accuracy: 0.6328 - loss: 1.6628\n",
      "Epoch 17/33\n",
      "\u001b[1m22/22\u001b[0m \u001b[32m━━━━━━━━━━━━━━━━━━━━\u001b[0m\u001b[37m\u001b[0m \u001b[1m24s\u001b[0m 1s/step - accuracy: 0.6362 - loss: 1.6457\n",
      "Epoch 18/33\n",
      "\u001b[1m22/22\u001b[0m \u001b[32m━━━━━━━━━━━━━━━━━━━━\u001b[0m\u001b[37m\u001b[0m \u001b[1m24s\u001b[0m 1s/step - accuracy: 0.6402 - loss: 1.6249\n",
      "Epoch 19/33\n",
      "\u001b[1m22/22\u001b[0m \u001b[32m━━━━━━━━━━━━━━━━━━━━\u001b[0m\u001b[37m\u001b[0m \u001b[1m24s\u001b[0m 1s/step - accuracy: 0.6396 - loss: 1.6108\n",
      "Epoch 20/33\n",
      "\u001b[1m22/22\u001b[0m \u001b[32m━━━━━━━━━━━━━━━━━━━━\u001b[0m\u001b[37m\u001b[0m \u001b[1m24s\u001b[0m 1s/step - accuracy: 0.6429 - loss: 1.6011\n",
      "Epoch 21/33\n",
      "\u001b[1m22/22\u001b[0m \u001b[32m━━━━━━━━━━━━━━━━━━━━\u001b[0m\u001b[37m\u001b[0m \u001b[1m24s\u001b[0m 1s/step - accuracy: 0.6432 - loss: 1.5931\n",
      "Epoch 22/33\n",
      "\u001b[1m22/22\u001b[0m \u001b[32m━━━━━━━━━━━━━━━━━━━━\u001b[0m\u001b[37m\u001b[0m \u001b[1m24s\u001b[0m 1s/step - accuracy: 0.6430 - loss: 1.5917\n",
      "Epoch 23/33\n",
      "\u001b[1m22/22\u001b[0m \u001b[32m━━━━━━━━━━━━━━━━━━━━\u001b[0m\u001b[37m\u001b[0m \u001b[1m24s\u001b[0m 1s/step - accuracy: 0.6448 - loss: 1.5842\n",
      "Epoch 24/33\n",
      "\u001b[1m22/22\u001b[0m \u001b[32m━━━━━━━━━━━━━━━━━━━━\u001b[0m\u001b[37m\u001b[0m \u001b[1m24s\u001b[0m 1s/step - accuracy: 0.6454 - loss: 1.5895\n",
      "Epoch 25/33\n",
      "\u001b[1m22/22\u001b[0m \u001b[32m━━━━━━━━━━━━━━━━━━━━\u001b[0m\u001b[37m\u001b[0m \u001b[1m24s\u001b[0m 1s/step - accuracy: 0.6460 - loss: 1.5870\n",
      "Epoch 26/33\n",
      "\u001b[1m22/22\u001b[0m \u001b[32m━━━━━━━━━━━━━━━━━━━━\u001b[0m\u001b[37m\u001b[0m \u001b[1m24s\u001b[0m 1s/step - accuracy: 0.6455 - loss: 1.5847\n",
      "Epoch 27/33\n",
      "\u001b[1m22/22\u001b[0m \u001b[32m━━━━━━━━━━━━━━━━━━━━\u001b[0m\u001b[37m\u001b[0m \u001b[1m24s\u001b[0m 1s/step - accuracy: 0.6467 - loss: 1.5838\n",
      "Epoch 28/33\n",
      "\u001b[1m22/22\u001b[0m \u001b[32m━━━━━━━━━━━━━━━━━━━━\u001b[0m\u001b[37m\u001b[0m \u001b[1m24s\u001b[0m 1s/step - accuracy: 0.6463 - loss: 1.5869\n",
      "Epoch 29/33\n",
      "\u001b[1m22/22\u001b[0m \u001b[32m━━━━━━━━━━━━━━━━━━━━\u001b[0m\u001b[37m\u001b[0m \u001b[1m24s\u001b[0m 1s/step - accuracy: 0.6460 - loss: 1.5881\n",
      "Epoch 30/33\n",
      "\u001b[1m22/22\u001b[0m \u001b[32m━━━━━━━━━━━━━━━━━━━━\u001b[0m\u001b[37m\u001b[0m \u001b[1m24s\u001b[0m 1s/step - accuracy: 0.6462 - loss: 1.5833\n",
      "Epoch 31/33\n",
      "\u001b[1m22/22\u001b[0m \u001b[32m━━━━━━━━━━━━━━━━━━━━\u001b[0m\u001b[37m\u001b[0m \u001b[1m24s\u001b[0m 1s/step - accuracy: 0.6435 - loss: 1.5904\n",
      "Epoch 32/33\n",
      "\u001b[1m22/22\u001b[0m \u001b[32m━━━━━━━━━━━━━━━━━━━━\u001b[0m\u001b[37m\u001b[0m \u001b[1m24s\u001b[0m 1s/step - accuracy: 0.6467 - loss: 1.5879\n",
      "Epoch 33/33\n",
      "\u001b[1m22/22\u001b[0m \u001b[32m━━━━━━━━━━━━━━━━━━━━\u001b[0m\u001b[37m\u001b[0m \u001b[1m24s\u001b[0m 1s/step - accuracy: 0.6462 - loss: 1.5867\n"
     ]
    },
    {
     "data": {
      "text/plain": [
       "<keras.src.callbacks.history.History at 0x7a8f8f0ec610>"
      ]
     },
     "execution_count": 13,
     "metadata": {},
     "output_type": "execute_result"
    }
   ],
   "source": [
    "GPT2Model.fit(dataset, epochs=EPOCHS + 11)"
   ]
  },
  {
   "cell_type": "code",
   "execution_count": 14,
   "id": "4877518d",
   "metadata": {
    "execution": {
     "iopub.execute_input": "2025-03-30T19:48:57.289582Z",
     "iopub.status.busy": "2025-03-30T19:48:57.289241Z",
     "iopub.status.idle": "2025-03-30T19:49:13.937942Z",
     "shell.execute_reply": "2025-03-30T19:49:13.936968Z"
    },
    "papermill": {
     "duration": 16.739031,
     "end_time": "2025-03-30T19:49:13.939386",
     "exception": false,
     "start_time": "2025-03-30T19:48:57.200355",
     "status": "completed"
    },
    "tags": []
   },
   "outputs": [
    {
     "name": "stdout",
     "output_type": "stream",
     "text": [
      "And I said, Romeo take me somewhere we can go again\n",
      "And it was a quiet night in New York\n",
      "And I've never had to look at you this way\n",
      "But I knew it would end up like this\n",
      "'Cause I'm so scared of dying\n",
      "And you are the only thing that keeps me up\n",
      "And I said, Romeo take me somewhere we can go again\n",
      "And it was a quiet night in New York\n",
      "And I've never had to look at you this way\n",
      "But I know I'm gonna keep you\n"
     ]
    }
   ],
   "source": [
    "test = GPT2Model.generate(\n",
    "    \"And I said, Romeo take me somewhere we can\",\n",
    "    max_length = 324,\n",
    ")\n",
    "\n",
    "print(test)"
   ]
  },
  {
   "cell_type": "code",
   "execution_count": null,
   "id": "66c1958e",
   "metadata": {
    "papermill": {
     "duration": 0.038826,
     "end_time": "2025-03-30T19:49:14.017573",
     "exception": false,
     "start_time": "2025-03-30T19:49:13.978747",
     "status": "completed"
    },
    "tags": []
   },
   "outputs": [],
   "source": []
  }
 ],
 "metadata": {
  "kaggle": {
   "accelerator": "nvidiaTeslaT4",
   "dataSources": [
    {
     "databundleVersionId": 11616712,
     "datasetId": 6959321,
     "sourceId": 11210651,
     "sourceType": "datasetVersion"
    },
    {
     "databundleVersionId": 7429267,
     "modelInstanceId": 4694,
     "sourceId": 6074,
     "sourceType": "modelInstanceVersion"
    }
   ],
   "dockerImageVersionId": 30919,
   "isGpuEnabled": true,
   "isInternetEnabled": true,
   "language": "python",
   "sourceType": "notebook"
  },
  "kernelspec": {
   "display_name": "Python 3",
   "language": "python",
   "name": "python3"
  },
  "language_info": {
   "codemirror_mode": {
    "name": "ipython",
    "version": 3
   },
   "file_extension": ".py",
   "mimetype": "text/x-python",
   "name": "python",
   "nbconvert_exporter": "python",
   "pygments_lexer": "ipython3",
   "version": "3.10.12"
  },
  "papermill": {
   "default_parameters": {},
   "duration": 919.193899,
   "end_time": "2025-03-30T19:49:17.873049",
   "environment_variables": {},
   "exception": null,
   "input_path": "__notebook__.ipynb",
   "output_path": "__notebook__.ipynb",
   "parameters": {},
   "start_time": "2025-03-30T19:33:58.679150",
   "version": "2.6.0"
  }
 },
 "nbformat": 4,
 "nbformat_minor": 5
}
