{
  "nbformat": 4,
  "nbformat_minor": 0,
  "metadata": {
    "colab": {
      "provenance": [],
      "authorship_tag": "ABX9TyNKpXBgFjG1OElDcJCu53ai",
      "include_colab_link": true
    },
    "kernelspec": {
      "name": "python3",
      "display_name": "Python 3"
    },
    "language_info": {
      "name": "python"
    }
  },
  "cells": [
    {
      "cell_type": "markdown",
      "metadata": {
        "id": "view-in-github",
        "colab_type": "text"
      },
      "source": [
        "<a href=\"https://colab.research.google.com/github/Raiden-Makoto/swiftualizer/blob/main/TransformerModel/SwiftNETV1.ipynb\" target=\"_parent\"><img src=\"https://colab.research.google.com/assets/colab-badge.svg\" alt=\"Open In Colab\"/></a>"
      ]
    },
    {
      "cell_type": "markdown",
      "source": [
        "# SwiftNET:\n",
        "**Keras + Tensorflow implementation of WaveNET specifically trained to generate pop songs in the style of Taylor Swift**"
      ],
      "metadata": {
        "id": "vs5PxgsfM0HB"
      }
    },
    {
      "cell_type": "code",
      "execution_count": 12,
      "metadata": {
        "id": "q0PcEGGOHR1S"
      },
      "outputs": [],
      "source": [
        "import os\n",
        "os.environ[\"KERAS_BACKEND\"] = \"tensorflow\"\n",
        "\n",
        "import numpy as np\n",
        "import matplotlib.pyplot as plt\n",
        "\n",
        "import tensorflow as tf\n",
        "import tensorflow.data as tf_data\n",
        "import keras\n",
        "from keras import layers\n",
        "from keras import ops\n",
        "from keras.initializers import GlorotUniform, Zeros"
      ]
    },
    {
      "cell_type": "markdown",
      "source": [
        "### Helper Operation for the main **SwiftNET** Model\n",
        "Code is sourced from [here](https://github.com/kokeshing/WaveNet-tf2/blob/master/model/module.py) but modified to use `Keras 3`."
      ],
      "metadata": {
        "id": "S4UF8T3jH0_I"
      }
    },
    {
      "cell_type": "markdown",
      "source": [
        "A causal convolution layer is a type of 1D convolution designed for sequential data where the output at time step $t$ depends only on inputs from time steps\n",
        "$ \\leq t$. This structure ensures that there is no \"leakage\" of future information into the past, making it useful for autoregressive models like WaveNet and time-series forecasting."
      ],
      "metadata": {
        "id": "SflQlPr9KctJ"
      }
    },
    {
      "cell_type": "code",
      "source": [
        "class CausalConvolutionLayer(layers.Conv1D):\n",
        "    def __init__(\n",
        "            self,\n",
        "            filters,\n",
        "            kernel_size,\n",
        "            strides=1,\n",
        "            padding='causal',\n",
        "            dilation_rate=1,\n",
        "            residual_channels=None,\n",
        "            *args,\n",
        "            **kwargs\n",
        "        ):\n",
        "        super().__init__(\n",
        "            filters,\n",
        "            kernel_size,\n",
        "            strides=strides,\n",
        "            padding=padding,\n",
        "            dilation_rate=dilation_rate\n",
        "        )\n",
        "        self.k = kernel_size\n",
        "        self.d = dilation_rate\n",
        "        if kernel_size > 1:\n",
        "            self.queue_len = kernel_size + (kernel_size - 1) * (dilation_rate - 1)\n",
        "            self.queue_dim = residual_channels\n",
        "            self.init_queue()\n",
        "\n",
        "    def build(self, input_shape):\n",
        "        super().build(input_shape)\n",
        "        self.linearized_weights = ops.cast(\n",
        "            ops.reshape(self.kernel, [-1, self.filters]),\n",
        "            dtype=tf.float32\n",
        "        )\n",
        "\n",
        "    def call(self, inputs, is_synthesis=False):\n",
        "        if not is_synthesis: return super().call(inputs)\n",
        "        if self.k > 1:\n",
        "            self.queue = self.queue[:, 1:, :]\n",
        "            self.queue = ops.concatenate(\n",
        "                [self.queue, ops.expand_dims(inputs[:, -1, :], axis=1)],\n",
        "                axis=1\n",
        "            )\n",
        "            if self.d > 1: inputs = self.queue[:, 0::self.d, :]\n",
        "            else: inputs = self.queue\n",
        "        outputs = ops.matmul(ops.reshape(inputs, [1, -1]), self.linearized_weights)\n",
        "        outputs = keras.backend.bias_add(outputs, self.bias)\n",
        "        return tf.reshape(outputs, [-1, 1, self.filters])\n",
        "\n",
        "    def init_queue(self):\n",
        "        self.queue = ops.zeros([1, self.queue_len, self.queue_dim], dtype=tf.float32)"
      ],
      "metadata": {
        "id": "CRb6GmCeHiwD"
      },
      "execution_count": 13,
      "outputs": []
    },
    {
      "cell_type": "code",
      "source": [],
      "metadata": {
        "id": "q8VO2HqdBQZE"
      },
      "execution_count": null,
      "outputs": []
    },
    {
      "cell_type": "markdown",
      "source": [
        "## Create the SwiftNET Model"
      ],
      "metadata": {
        "id": "rQWv4zykN9Cq"
      }
    },
    {
      "cell_type": "code",
      "source": [],
      "metadata": {
        "id": "O3U8O39k3_U7"
      },
      "execution_count": null,
      "outputs": []
    }
  ]
}